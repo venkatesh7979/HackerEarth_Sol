{
 "cells": [
  {
   "cell_type": "markdown",
   "metadata": {},
   "source": [
    "Changing the Directory"
   ]
  },
  {
   "cell_type": "code",
   "execution_count": 1,
   "metadata": {},
   "outputs": [
    {
     "name": "stdout",
     "output_type": "stream",
     "text": [
      "C:\\Users\\venka\\OneDrive\\Desktop\\Hacker Earth Machine learning\\Reduce Marketing\\dataset\n"
     ]
    }
   ],
   "source": [
    "cd C:\\Users\\venka\\OneDrive\\Desktop\\Hacker Earth Machine learning\\Reduce Marketing\\dataset"
   ]
  },
  {
   "cell_type": "markdown",
   "metadata": {},
   "source": [
    "# Importing required libraries"
   ]
  },
  {
   "cell_type": "code",
   "execution_count": 183,
   "metadata": {},
   "outputs": [],
   "source": [
    "import numpy as np\n",
    "import matplotlib.pyplot as plt\n",
    "import pandas as pd\n",
    "import datetime\n",
    "import seaborn as sn"
   ]
  },
  {
   "cell_type": "markdown",
   "metadata": {},
   "source": [
    "# Loading the data"
   ]
  },
  {
   "cell_type": "code",
   "execution_count": 187,
   "metadata": {},
   "outputs": [],
   "source": [
    "df=pd.read_csv('train.csv')\n",
    "df1=pd.read_csv('train.csv')\n",
    "df_test=pd.read_csv('test.csv')"
   ]
  },
  {
   "cell_type": "markdown",
   "metadata": {},
   "source": [
    "# Data preprocessing"
   ]
  },
  {
   "cell_type": "code",
   "execution_count": 4,
   "metadata": {},
   "outputs": [
    {
     "data": {
      "text/html": [
       "<div>\n",
       "<style scoped>\n",
       "    .dataframe tbody tr th:only-of-type {\n",
       "        vertical-align: middle;\n",
       "    }\n",
       "\n",
       "    .dataframe tbody tr th {\n",
       "        vertical-align: top;\n",
       "    }\n",
       "\n",
       "    .dataframe thead th {\n",
       "        text-align: right;\n",
       "    }\n",
       "</style>\n",
       "<table border=\"1\" class=\"dataframe\">\n",
       "  <thead>\n",
       "    <tr style=\"text-align: right;\">\n",
       "      <th></th>\n",
       "      <th>Deal_title</th>\n",
       "      <th>Lead_name</th>\n",
       "      <th>Industry</th>\n",
       "      <th>Deal_value</th>\n",
       "      <th>Weighted_amount</th>\n",
       "      <th>Date_of_creation</th>\n",
       "      <th>Pitch</th>\n",
       "      <th>Contact_no</th>\n",
       "      <th>Lead_revenue</th>\n",
       "      <th>Fund_category</th>\n",
       "      <th>...</th>\n",
       "      <th>Designation</th>\n",
       "      <th>Lead_POC_email</th>\n",
       "      <th>Hiring_candidate_role</th>\n",
       "      <th>Lead_source</th>\n",
       "      <th>Level_of_meeting</th>\n",
       "      <th>Last_lead_update</th>\n",
       "      <th>Internal_POC</th>\n",
       "      <th>Resource</th>\n",
       "      <th>Internal_rating</th>\n",
       "      <th>Success_probability</th>\n",
       "    </tr>\n",
       "  </thead>\n",
       "  <tbody>\n",
       "    <tr>\n",
       "      <th>0</th>\n",
       "      <td>TitleM5DZY</td>\n",
       "      <td>Davis, Perkins and Bishop Inc</td>\n",
       "      <td>Restaurants</td>\n",
       "      <td>320506$</td>\n",
       "      <td>2067263.7$</td>\n",
       "      <td>2020-03-29</td>\n",
       "      <td>Product_2</td>\n",
       "      <td>607.447.7883</td>\n",
       "      <td>50 - 100 Million</td>\n",
       "      <td>Category 2</td>\n",
       "      <td>...</td>\n",
       "      <td>Executive Vice President</td>\n",
       "      <td>charlenewerner@davis.com</td>\n",
       "      <td>Community pharmacist</td>\n",
       "      <td>Website</td>\n",
       "      <td>Level 3</td>\n",
       "      <td>No track</td>\n",
       "      <td>Davis,Sharrice A</td>\n",
       "      <td>NaN</td>\n",
       "      <td>3</td>\n",
       "      <td>73.6</td>\n",
       "    </tr>\n",
       "    <tr>\n",
       "      <th>1</th>\n",
       "      <td>TitleKIW18</td>\n",
       "      <td>Bender PLC LLC</td>\n",
       "      <td>Construction Services</td>\n",
       "      <td>39488$</td>\n",
       "      <td>240876.8$</td>\n",
       "      <td>2019-07-10</td>\n",
       "      <td>Product_2</td>\n",
       "      <td>892-938-9493</td>\n",
       "      <td>500 Million - 1 Billion</td>\n",
       "      <td>Category 4</td>\n",
       "      <td>...</td>\n",
       "      <td>Chairman/CEO/President</td>\n",
       "      <td>terrylogan@bender.com</td>\n",
       "      <td>Recruitment consultant</td>\n",
       "      <td>Others</td>\n",
       "      <td>Level 1</td>\n",
       "      <td>Did not hear back after Level 1</td>\n",
       "      <td>Brown,Maxine A</td>\n",
       "      <td>No</td>\n",
       "      <td>5</td>\n",
       "      <td>58.9</td>\n",
       "    </tr>\n",
       "    <tr>\n",
       "      <th>2</th>\n",
       "      <td>TitleFXSDN</td>\n",
       "      <td>Carter-Henry and Sons</td>\n",
       "      <td>Hospitals/Clinics</td>\n",
       "      <td>359392$</td>\n",
       "      <td>2407926.4$</td>\n",
       "      <td>2019-07-27</td>\n",
       "      <td>Product_1</td>\n",
       "      <td>538.748.2271</td>\n",
       "      <td>500 Million - 1 Billion</td>\n",
       "      <td>Category 4</td>\n",
       "      <td>...</td>\n",
       "      <td>SVP/General Counsel</td>\n",
       "      <td>arielhamilton@carterhenry.com</td>\n",
       "      <td>Health service manager</td>\n",
       "      <td>Marketing Event</td>\n",
       "      <td>Level 1</td>\n",
       "      <td>?</td>\n",
       "      <td>Georgakopoulos,Vasilios T</td>\n",
       "      <td>No</td>\n",
       "      <td>4</td>\n",
       "      <td>68.8</td>\n",
       "    </tr>\n",
       "    <tr>\n",
       "      <th>3</th>\n",
       "      <td>TitlePSK4Y</td>\n",
       "      <td>Garcia Ltd Ltd</td>\n",
       "      <td>Real Estate</td>\n",
       "      <td>76774$</td>\n",
       "      <td>468321.4$</td>\n",
       "      <td>2021-01-30</td>\n",
       "      <td>Product_2</td>\n",
       "      <td>(692)052-1389x75188</td>\n",
       "      <td>500 Million - 1 Billion</td>\n",
       "      <td>Category 3</td>\n",
       "      <td>...</td>\n",
       "      <td>CEO/Co-Founder/Chairman</td>\n",
       "      <td>erinwilson@garcia.com</td>\n",
       "      <td>Therapist, speech and language</td>\n",
       "      <td>Contact Email</td>\n",
       "      <td>Level 2</td>\n",
       "      <td>Did not hear back after Level 1</td>\n",
       "      <td>Brown,Maxine A</td>\n",
       "      <td>We have all the requirements</td>\n",
       "      <td>1</td>\n",
       "      <td>64.5</td>\n",
       "    </tr>\n",
       "    <tr>\n",
       "      <th>4</th>\n",
       "      <td>Title904GV</td>\n",
       "      <td>Lee and Sons PLC</td>\n",
       "      <td>Financial Services</td>\n",
       "      <td>483896$</td>\n",
       "      <td>NaN</td>\n",
       "      <td>2019-05-22</td>\n",
       "      <td>Product_2</td>\n",
       "      <td>001-878-814-6134x015</td>\n",
       "      <td>50 - 100 Million</td>\n",
       "      <td>Category 3</td>\n",
       "      <td>...</td>\n",
       "      <td>Executive Vice President</td>\n",
       "      <td>mr.christopher@lee.com</td>\n",
       "      <td>Media planner</td>\n",
       "      <td>Website</td>\n",
       "      <td>Level 2</td>\n",
       "      <td>Up-to-date</td>\n",
       "      <td>Thomas,Lori E</td>\n",
       "      <td>No</td>\n",
       "      <td>4</td>\n",
       "      <td>62.4</td>\n",
       "    </tr>\n",
       "  </tbody>\n",
       "</table>\n",
       "<p>5 rows × 23 columns</p>\n",
       "</div>"
      ],
      "text/plain": [
       "   Deal_title                      Lead_name               Industry  \\\n",
       "0  TitleM5DZY  Davis, Perkins and Bishop Inc            Restaurants   \n",
       "1  TitleKIW18                 Bender PLC LLC  Construction Services   \n",
       "2  TitleFXSDN          Carter-Henry and Sons      Hospitals/Clinics   \n",
       "3  TitlePSK4Y                 Garcia Ltd Ltd            Real Estate   \n",
       "4  Title904GV               Lee and Sons PLC     Financial Services   \n",
       "\n",
       "  Deal_value Weighted_amount Date_of_creation      Pitch  \\\n",
       "0    320506$      2067263.7$       2020-03-29  Product_2   \n",
       "1     39488$       240876.8$       2019-07-10  Product_2   \n",
       "2    359392$      2407926.4$       2019-07-27  Product_1   \n",
       "3     76774$       468321.4$       2021-01-30  Product_2   \n",
       "4    483896$             NaN       2019-05-22  Product_2   \n",
       "\n",
       "             Contact_no             Lead_revenue Fund_category  ...  \\\n",
       "0          607.447.7883         50 - 100 Million    Category 2  ...   \n",
       "1          892-938-9493  500 Million - 1 Billion    Category 4  ...   \n",
       "2          538.748.2271  500 Million - 1 Billion    Category 4  ...   \n",
       "3   (692)052-1389x75188  500 Million - 1 Billion    Category 3  ...   \n",
       "4  001-878-814-6134x015         50 - 100 Million    Category 3  ...   \n",
       "\n",
       "                Designation                 Lead_POC_email  \\\n",
       "0  Executive Vice President       charlenewerner@davis.com   \n",
       "1    Chairman/CEO/President          terrylogan@bender.com   \n",
       "2      SVP/General Counsel   arielhamilton@carterhenry.com   \n",
       "3   CEO/Co-Founder/Chairman          erinwilson@garcia.com   \n",
       "4  Executive Vice President         mr.christopher@lee.com   \n",
       "\n",
       "            Hiring_candidate_role      Lead_source Level_of_meeting  \\\n",
       "0            Community pharmacist          Website          Level 3   \n",
       "1          Recruitment consultant           Others          Level 1   \n",
       "2          Health service manager  Marketing Event          Level 1   \n",
       "3  Therapist, speech and language    Contact Email          Level 2   \n",
       "4                   Media planner          Website          Level 2   \n",
       "\n",
       "                  Last_lead_update               Internal_POC  \\\n",
       "0                         No track           Davis,Sharrice A   \n",
       "1  Did not hear back after Level 1             Brown,Maxine A   \n",
       "2                                ?  Georgakopoulos,Vasilios T   \n",
       "3  Did not hear back after Level 1             Brown,Maxine A   \n",
       "4                       Up-to-date              Thomas,Lori E   \n",
       "\n",
       "                       Resource Internal_rating Success_probability  \n",
       "0                           NaN               3                73.6  \n",
       "1                            No               5                58.9  \n",
       "2                            No               4                68.8  \n",
       "3  We have all the requirements               1                64.5  \n",
       "4                            No               4                62.4  \n",
       "\n",
       "[5 rows x 23 columns]"
      ]
     },
     "execution_count": 4,
     "metadata": {},
     "output_type": "execute_result"
    }
   ],
   "source": [
    "df.head()"
   ]
  },
  {
   "cell_type": "code",
   "execution_count": 6,
   "metadata": {},
   "outputs": [
    {
     "data": {
      "text/html": [
       "<div>\n",
       "<style scoped>\n",
       "    .dataframe tbody tr th:only-of-type {\n",
       "        vertical-align: middle;\n",
       "    }\n",
       "\n",
       "    .dataframe tbody tr th {\n",
       "        vertical-align: top;\n",
       "    }\n",
       "\n",
       "    .dataframe thead th {\n",
       "        text-align: right;\n",
       "    }\n",
       "</style>\n",
       "<table border=\"1\" class=\"dataframe\">\n",
       "  <thead>\n",
       "    <tr style=\"text-align: right;\">\n",
       "      <th></th>\n",
       "      <th>Deal_title</th>\n",
       "      <th>Lead_name</th>\n",
       "      <th>Industry</th>\n",
       "      <th>Deal_value</th>\n",
       "      <th>Weighted_amount</th>\n",
       "      <th>Date_of_creation</th>\n",
       "      <th>Pitch</th>\n",
       "      <th>Contact_no</th>\n",
       "      <th>Lead_revenue</th>\n",
       "      <th>Fund_category</th>\n",
       "      <th>...</th>\n",
       "      <th>POC_name</th>\n",
       "      <th>Designation</th>\n",
       "      <th>Lead_POC_email</th>\n",
       "      <th>Hiring_candidate_role</th>\n",
       "      <th>Lead_source</th>\n",
       "      <th>Level_of_meeting</th>\n",
       "      <th>Last_lead_update</th>\n",
       "      <th>Internal_POC</th>\n",
       "      <th>Resource</th>\n",
       "      <th>Internal_rating</th>\n",
       "    </tr>\n",
       "  </thead>\n",
       "  <tbody>\n",
       "    <tr>\n",
       "      <th>0</th>\n",
       "      <td>TitleAD16O</td>\n",
       "      <td>Bonilla Ltd Inc</td>\n",
       "      <td>Investment Bank/Brokerage</td>\n",
       "      <td>200988$</td>\n",
       "      <td>NaN</td>\n",
       "      <td>2020-04-15</td>\n",
       "      <td>Product_1</td>\n",
       "      <td>167.332.2751x989</td>\n",
       "      <td>100 - 500 Million</td>\n",
       "      <td>Category 4</td>\n",
       "      <td>...</td>\n",
       "      <td>sonia</td>\n",
       "      <td>Chairman/CEO/President</td>\n",
       "      <td>maureenthomas@bonilla.com</td>\n",
       "      <td>Designer, fashion/clothing</td>\n",
       "      <td>Marketing Event</td>\n",
       "      <td>Level 1</td>\n",
       "      <td>more than a month</td>\n",
       "      <td>Massiah,Gerard F</td>\n",
       "      <td>No</td>\n",
       "      <td>-1.0</td>\n",
       "    </tr>\n",
       "    <tr>\n",
       "      <th>1</th>\n",
       "      <td>TitleOW6CR</td>\n",
       "      <td>Williams, Rogers and Roach PLC</td>\n",
       "      <td>Electronics</td>\n",
       "      <td>409961$</td>\n",
       "      <td>2541758.2$</td>\n",
       "      <td>2021-01-23</td>\n",
       "      <td>Product_1</td>\n",
       "      <td>001-486-903-0711x7831</td>\n",
       "      <td>100 - 500 Million</td>\n",
       "      <td>Category 3</td>\n",
       "      <td>...</td>\n",
       "      <td>Daniel Bell</td>\n",
       "      <td>CEO/Co-Founder/Chairman</td>\n",
       "      <td>danielbell@williams.com</td>\n",
       "      <td>Horticultural consultant</td>\n",
       "      <td>Marketing Event</td>\n",
       "      <td>Level 2</td>\n",
       "      <td>Up-to-date</td>\n",
       "      <td>Smith,Keenan H</td>\n",
       "      <td>Yes</td>\n",
       "      <td>1.0</td>\n",
       "    </tr>\n",
       "    <tr>\n",
       "      <th>2</th>\n",
       "      <td>TitleVVJQ5</td>\n",
       "      <td>Wood, Vaughn and Morales Ltd</td>\n",
       "      <td>Banks</td>\n",
       "      <td>434433$</td>\n",
       "      <td>3041031.0$</td>\n",
       "      <td>2020-07-19</td>\n",
       "      <td>Product_1</td>\n",
       "      <td>(393)104-2610x9723</td>\n",
       "      <td>100 - 500 Million</td>\n",
       "      <td>Category 1</td>\n",
       "      <td>...</td>\n",
       "      <td>Andrew Davis</td>\n",
       "      <td>Chairman/Chief Innovation Officer</td>\n",
       "      <td>andrewdavis@wood.com</td>\n",
       "      <td>Information officer</td>\n",
       "      <td>Marketing Event</td>\n",
       "      <td>Level 2</td>\n",
       "      <td>Did not hear back after Level 1</td>\n",
       "      <td>Gilley,Janine</td>\n",
       "      <td>Deliverable</td>\n",
       "      <td>5.0</td>\n",
       "    </tr>\n",
       "    <tr>\n",
       "      <th>3</th>\n",
       "      <td>TitleUS8NA</td>\n",
       "      <td>Durham-Crawford Inc</td>\n",
       "      <td>Music</td>\n",
       "      <td>218952$</td>\n",
       "      <td>1521716.4$</td>\n",
       "      <td>2020-02-27</td>\n",
       "      <td>Product_2</td>\n",
       "      <td>(817)040-4599</td>\n",
       "      <td>100 - 500 Million</td>\n",
       "      <td>Category 1</td>\n",
       "      <td>...</td>\n",
       "      <td>shital</td>\n",
       "      <td>CEO/Chairman/President</td>\n",
       "      <td>charlesrivera@durhamcrawford.com</td>\n",
       "      <td>Commercial/residential surveyor</td>\n",
       "      <td>Contact Email</td>\n",
       "      <td>Level 3</td>\n",
       "      <td>more than a month</td>\n",
       "      <td>Morsy,Omar A</td>\n",
       "      <td>No</td>\n",
       "      <td>5.0</td>\n",
       "    </tr>\n",
       "    <tr>\n",
       "      <th>4</th>\n",
       "      <td>Title5VGWW</td>\n",
       "      <td>Simpson, Duncan and Long LLC</td>\n",
       "      <td>Real Estate</td>\n",
       "      <td>392835$</td>\n",
       "      <td>2455218.75$</td>\n",
       "      <td>2020-10-25</td>\n",
       "      <td>Product_1</td>\n",
       "      <td>718-032-5726x76098</td>\n",
       "      <td>500 Million - 1 Billion</td>\n",
       "      <td>Category 3</td>\n",
       "      <td>...</td>\n",
       "      <td>Shelly Stephenson</td>\n",
       "      <td>CEO/Co-Founder/Chairman</td>\n",
       "      <td>shellystephenson@simpson.com</td>\n",
       "      <td>Wellsite geologist</td>\n",
       "      <td>Others</td>\n",
       "      <td>Level 3</td>\n",
       "      <td>More than 2 weeks</td>\n",
       "      <td>Morsy,Omar A</td>\n",
       "      <td>Deliverable</td>\n",
       "      <td>2.0</td>\n",
       "    </tr>\n",
       "  </tbody>\n",
       "</table>\n",
       "<p>5 rows × 22 columns</p>\n",
       "</div>"
      ],
      "text/plain": [
       "   Deal_title                       Lead_name                   Industry  \\\n",
       "0  TitleAD16O                 Bonilla Ltd Inc  Investment Bank/Brokerage   \n",
       "1  TitleOW6CR  Williams, Rogers and Roach PLC                Electronics   \n",
       "2  TitleVVJQ5    Wood, Vaughn and Morales Ltd                      Banks   \n",
       "3  TitleUS8NA             Durham-Crawford Inc                      Music   \n",
       "4  Title5VGWW    Simpson, Duncan and Long LLC                Real Estate   \n",
       "\n",
       "  Deal_value Weighted_amount Date_of_creation      Pitch  \\\n",
       "0    200988$             NaN       2020-04-15  Product_1   \n",
       "1    409961$      2541758.2$       2021-01-23  Product_1   \n",
       "2    434433$      3041031.0$       2020-07-19  Product_1   \n",
       "3    218952$      1521716.4$       2020-02-27  Product_2   \n",
       "4    392835$     2455218.75$       2020-10-25  Product_1   \n",
       "\n",
       "              Contact_no             Lead_revenue Fund_category  ...  \\\n",
       "0       167.332.2751x989        100 - 500 Million    Category 4  ...   \n",
       "1  001-486-903-0711x7831        100 - 500 Million    Category 3  ...   \n",
       "2     (393)104-2610x9723        100 - 500 Million    Category 1  ...   \n",
       "3          (817)040-4599        100 - 500 Million    Category 1  ...   \n",
       "4     718-032-5726x76098  500 Million - 1 Billion    Category 3  ...   \n",
       "\n",
       "            POC_name                        Designation  \\\n",
       "0              sonia             Chairman/CEO/President   \n",
       "1        Daniel Bell            CEO/Co-Founder/Chairman   \n",
       "2       Andrew Davis  Chairman/Chief Innovation Officer   \n",
       "3             shital             CEO/Chairman/President   \n",
       "4  Shelly Stephenson            CEO/Co-Founder/Chairman   \n",
       "\n",
       "                     Lead_POC_email            Hiring_candidate_role  \\\n",
       "0         maureenthomas@bonilla.com       Designer, fashion/clothing   \n",
       "1           danielbell@williams.com         Horticultural consultant   \n",
       "2              andrewdavis@wood.com              Information officer   \n",
       "3  charlesrivera@durhamcrawford.com  Commercial/residential surveyor   \n",
       "4      shellystephenson@simpson.com               Wellsite geologist   \n",
       "\n",
       "       Lead_source Level_of_meeting                 Last_lead_update  \\\n",
       "0  Marketing Event          Level 1                more than a month   \n",
       "1  Marketing Event          Level 2                       Up-to-date   \n",
       "2  Marketing Event          Level 2  Did not hear back after Level 1   \n",
       "3    Contact Email          Level 3                more than a month   \n",
       "4           Others          Level 3                More than 2 weeks   \n",
       "\n",
       "       Internal_POC     Resource Internal_rating  \n",
       "0  Massiah,Gerard F           No            -1.0  \n",
       "1    Smith,Keenan H          Yes             1.0  \n",
       "2     Gilley,Janine  Deliverable             5.0  \n",
       "3      Morsy,Omar A           No             5.0  \n",
       "4      Morsy,Omar A  Deliverable             2.0  \n",
       "\n",
       "[5 rows x 22 columns]"
      ]
     },
     "execution_count": 6,
     "metadata": {},
     "output_type": "execute_result"
    }
   ],
   "source": [
    "df_test.head()"
   ]
  },
  {
   "cell_type": "markdown",
   "metadata": {},
   "source": [
    "# Removing Unwanted columns"
   ]
  },
  {
   "cell_type": "code",
   "execution_count": 16,
   "metadata": {},
   "outputs": [],
   "source": [
    "df.drop(['Deal_title','Lead_name','Contact_no','POC_name','Lead_POC_email'],axis=1,inplace=True)\n",
    "df_test.drop(['Deal_title','Lead_name','Contact_no','POC_name','Lead_POC_email'],axis=1,inplace=True)"
   ]
  },
  {
   "cell_type": "markdown",
   "metadata": {},
   "source": [
    "Knowing null values"
   ]
  },
  {
   "cell_type": "code",
   "execution_count": 26,
   "metadata": {},
   "outputs": [
    {
     "name": "stdout",
     "output_type": "stream",
     "text": [
      "<class 'pandas.core.frame.DataFrame'>\n",
      "RangeIndex: 7007 entries, 0 to 7006\n",
      "Data columns (total 18 columns):\n",
      " #   Column                 Non-Null Count  Dtype  \n",
      "---  ------                 --------------  -----  \n",
      " 0   Industry               7006 non-null   object \n",
      " 1   Deal_value             6956 non-null   object \n",
      " 2   Weighted_amount        6482 non-null   object \n",
      " 3   Date_of_creation       7007 non-null   object \n",
      " 4   Pitch                  7007 non-null   object \n",
      " 5   Lead_revenue           7007 non-null   object \n",
      " 6   Fund_category          7007 non-null   object \n",
      " 7   Geography              6035 non-null   object \n",
      " 8   Location               6996 non-null   object \n",
      " 9   Designation            7007 non-null   object \n",
      " 10  Hiring_candidate_role  7007 non-null   object \n",
      " 11  Lead_source            7007 non-null   object \n",
      " 12  Level_of_meeting       7007 non-null   object \n",
      " 13  Last_lead_update       6374 non-null   object \n",
      " 14  Internal_POC           7007 non-null   object \n",
      " 15  Resource               6858 non-null   object \n",
      " 16  Internal_rating        7007 non-null   int64  \n",
      " 17  Success_probability    7007 non-null   float64\n",
      "dtypes: float64(1), int64(1), object(16)\n",
      "memory usage: 985.5+ KB\n"
     ]
    }
   ],
   "source": [
    "df.info()"
   ]
  },
  {
   "cell_type": "markdown",
   "metadata": {},
   "source": [
    "# Filling the missing values"
   ]
  },
  {
   "cell_type": "code",
   "execution_count": 60,
   "metadata": {},
   "outputs": [],
   "source": [
    "df['Industry'] = df['Industry'].replace(np.nan, 'Banks')\n",
    "df_test['Industry'] = df_test['Industry'].replace(np.nan, 'Banks')"
   ]
  },
  {
   "cell_type": "code",
   "execution_count": 66,
   "metadata": {},
   "outputs": [],
   "source": [
    "df['Deal_value']=df['Deal_value'].replace(np.nan, df['Deal_value'].mode()[0])\n",
    "df_test['Deal_value']=df_test['Deal_value'].replace(np.nan, df['Deal_value'].mode()[0])"
   ]
  },
  {
   "cell_type": "code",
   "execution_count": 68,
   "metadata": {},
   "outputs": [],
   "source": [
    "df['Weighted_amount']=df['Weighted_amount'].replace(np.nan, df['Weighted_amount'].mode()[0])\n",
    "df_test['Weighted_amount']=df_test['Weighted_amount'].replace(np.nan, df['Weighted_amount'].mode()[0])"
   ]
  },
  {
   "cell_type": "code",
   "execution_count": 69,
   "metadata": {},
   "outputs": [],
   "source": [
    "df['Geography'] = df['Geography'].replace(np.nan, df['Geography'].mode()[0])\n",
    "df_test['Geography'] = df_test['Geography'].replace(np.nan, df['Geography'].mode()[0])"
   ]
  },
  {
   "cell_type": "code",
   "execution_count": 70,
   "metadata": {},
   "outputs": [],
   "source": [
    "df['Location'] = df['Location'].replace(np.nan, df['Location'].mode()[0])\n",
    "df_test['Location'] = df_test['Location'].replace(np.nan, df['Location'].mode()[0])"
   ]
  },
  {
   "cell_type": "code",
   "execution_count": 71,
   "metadata": {},
   "outputs": [],
   "source": [
    "df['Last_lead_update'] = df['Last_lead_update'].replace(np.nan, df['Last_lead_update'].mode()[0])\n",
    "df_test['Last_lead_update'] = df_test['Last_lead_update'].replace(np.nan, df['Last_lead_update'].mode()[0])"
   ]
  },
  {
   "cell_type": "code",
   "execution_count": 72,
   "metadata": {},
   "outputs": [],
   "source": [
    "df['Resource'] = df['Resource'].replace(np.nan, df['Resource'].mode()[0])\n",
    "df_test['Resource'] = df_test['Resource'].replace(np.nan, df['Resource'].mode()[0])"
   ]
  },
  {
   "cell_type": "code",
   "execution_count": 73,
   "metadata": {},
   "outputs": [
    {
     "name": "stdout",
     "output_type": "stream",
     "text": [
      "<class 'pandas.core.frame.DataFrame'>\n",
      "RangeIndex: 7007 entries, 0 to 7006\n",
      "Data columns (total 18 columns):\n",
      " #   Column                 Non-Null Count  Dtype  \n",
      "---  ------                 --------------  -----  \n",
      " 0   Industry               7007 non-null   object \n",
      " 1   Deal_value             7007 non-null   object \n",
      " 2   Weighted_amount        7007 non-null   object \n",
      " 3   Date_of_creation       7007 non-null   object \n",
      " 4   Pitch                  7007 non-null   object \n",
      " 5   Lead_revenue           7007 non-null   object \n",
      " 6   Fund_category          7007 non-null   object \n",
      " 7   Geography              7007 non-null   object \n",
      " 8   Location               7007 non-null   object \n",
      " 9   Designation            7007 non-null   object \n",
      " 10  Hiring_candidate_role  7007 non-null   object \n",
      " 11  Lead_source            7007 non-null   object \n",
      " 12  Level_of_meeting       7007 non-null   object \n",
      " 13  Last_lead_update       7007 non-null   object \n",
      " 14  Internal_POC           7007 non-null   object \n",
      " 15  Resource               7007 non-null   object \n",
      " 16  Internal_rating        7007 non-null   int64  \n",
      " 17  Success_probability    7007 non-null   float64\n",
      "dtypes: float64(1), int64(1), object(16)\n",
      "memory usage: 985.5+ KB\n"
     ]
    }
   ],
   "source": [
    "df.info()"
   ]
  },
  {
   "cell_type": "code",
   "execution_count": 74,
   "metadata": {},
   "outputs": [
    {
     "name": "stdout",
     "output_type": "stream",
     "text": [
      "<class 'pandas.core.frame.DataFrame'>\n",
      "RangeIndex: 2093 entries, 0 to 2092\n",
      "Data columns (total 17 columns):\n",
      " #   Column                 Non-Null Count  Dtype  \n",
      "---  ------                 --------------  -----  \n",
      " 0   Industry               2093 non-null   object \n",
      " 1   Deal_value             2093 non-null   object \n",
      " 2   Weighted_amount        2093 non-null   object \n",
      " 3   Date_of_creation       2093 non-null   object \n",
      " 4   Pitch                  2093 non-null   object \n",
      " 5   Lead_revenue           2093 non-null   object \n",
      " 6   Fund_category          2093 non-null   object \n",
      " 7   Geography              2093 non-null   object \n",
      " 8   Location               2093 non-null   object \n",
      " 9   Designation            2093 non-null   object \n",
      " 10  Hiring_candidate_role  2093 non-null   object \n",
      " 11  Lead_source            2093 non-null   object \n",
      " 12  Level_of_meeting       2093 non-null   object \n",
      " 13  Last_lead_update       2093 non-null   object \n",
      " 14  Internal_POC           2093 non-null   object \n",
      " 15  Resource               2093 non-null   object \n",
      " 16  Internal_rating        2093 non-null   float64\n",
      "dtypes: float64(1), object(16)\n",
      "memory usage: 278.1+ KB\n"
     ]
    }
   ],
   "source": [
    "df_test.info()"
   ]
  },
  {
   "cell_type": "markdown",
   "metadata": {},
   "source": [
    "# Filtering the data"
   ]
  },
  {
   "cell_type": "code",
   "execution_count": 75,
   "metadata": {},
   "outputs": [],
   "source": [
    "def dollar(val):\n",
    "    return float(val[:-1])"
   ]
  },
  {
   "cell_type": "code",
   "execution_count": 76,
   "metadata": {},
   "outputs": [],
   "source": [
    "df['Deal_value']=df['Deal_value'].apply(dollar)\n",
    "df_test['Deal_value']=df_test['Deal_value'].apply(dollar)"
   ]
  },
  {
   "cell_type": "code",
   "execution_count": 80,
   "metadata": {},
   "outputs": [],
   "source": [
    "df['Weighted_amount']=df['Weighted_amount'].apply(dollar)\n",
    "df_test['Weighted_amount']=df_test['Weighted_amount'].apply(dollar)"
   ]
  },
  {
   "cell_type": "markdown",
   "metadata": {},
   "source": [
    "# Add month and year column and finally remove the date"
   ]
  },
  {
   "cell_type": "code",
   "execution_count": 83,
   "metadata": {},
   "outputs": [],
   "source": [
    "df['year'] = pd.DatetimeIndex(df['Date_of_creation']).year\n",
    "df['month'] = pd.DatetimeIndex(df['Date_of_creation']).month"
   ]
  },
  {
   "cell_type": "code",
   "execution_count": 137,
   "metadata": {},
   "outputs": [],
   "source": [
    "df_test['year'] = pd.DatetimeIndex(df_test['Date_of_creation']).year\n",
    "df_test['month'] = pd.DatetimeIndex(df_test['Date_of_creation']).month"
   ]
  },
  {
   "cell_type": "code",
   "execution_count": 86,
   "metadata": {},
   "outputs": [],
   "source": [
    "df.drop(['Date_of_creation'],axis=1,inplace=True)"
   ]
  },
  {
   "cell_type": "code",
   "execution_count": 139,
   "metadata": {},
   "outputs": [],
   "source": [
    "df_test.drop(['Date_of_creation'],axis=1,inplace=True)"
   ]
  },
  {
   "cell_type": "markdown",
   "metadata": {},
   "source": [
    "# Data visualisation"
   ]
  },
  {
   "cell_type": "code",
   "execution_count": 97,
   "metadata": {},
   "outputs": [
    {
     "data": {
      "text/plain": [
       "[<matplotlib.lines.Line2D at 0x2e3fd1947c0>]"
      ]
     },
     "execution_count": 97,
     "metadata": {},
     "output_type": "execute_result"
    },
    {
     "data": {
      "image/png": "[encoded data removed]",
      "text/plain": [
       "<Figure size 432x288 with 1 Axes>"
      ]
     },
     "metadata": {
      "needs_background": "light"
     },
     "output_type": "display_data"
    }
   ],
   "source": [
    "plt.plot(df.groupby(['Industry']).count()['Deal_value'].index,df.groupby(['Industry']).count()['Deal_value'])"
   ]
  },
  {
   "cell_type": "code",
   "execution_count": 99,
   "metadata": {},
   "outputs": [
    {
     "data": {
      "text/plain": [
       "[<matplotlib.lines.Line2D at 0x2e3ff30f3d0>]"
      ]
     },
     "execution_count": 99,
     "metadata": {},
     "output_type": "execute_result"
    },
    {
     "data": {
      "image/png": "[encoded data removed]",
      "text/plain": [
       "<Figure size 432x288 with 1 Axes>"
      ]
     },
     "metadata": {
      "needs_background": "light"
     },
     "output_type": "display_data"
    }
   ],
   "source": [
    "plt.plot(df.groupby(['Industry'])['Success_probability'].mean().index,df.groupby(['Industry'])['Success_probability'].mean())"
   ]
  },
  {
   "cell_type": "code",
   "execution_count": 98,
   "metadata": {},
   "outputs": [
    {
     "data": {
      "text/plain": [
       "[<matplotlib.lines.Line2D at 0x2e3ff4041c0>]"
      ]
     },
     "execution_count": 98,
     "metadata": {},
     "output_type": "execute_result"
    },
    {
     "data": {
      "image/png": "[encoded data removed]",
      "text/plain": [
       "<Figure size 432x288 with 1 Axes>"
      ]
     },
     "metadata": {
      "needs_background": "light"
     },
     "output_type": "display_data"
    }
   ],
   "source": [
    "plt.plot(df.groupby(['Pitch']).count()['Deal_value'].index,df.groupby(['Pitch']).count()['Deal_value'])"
   ]
  },
  {
   "cell_type": "code",
   "execution_count": 100,
   "metadata": {},
   "outputs": [
    {
     "data": {
      "text/plain": [
       "[<matplotlib.lines.Line2D at 0x2e3ff5fce20>]"
      ]
     },
     "execution_count": 100,
     "metadata": {},
     "output_type": "execute_result"
    },
    {
     "data": {
      "image/png": "[encoded data removed]",
      "text/plain": [
       "<Figure size 432x288 with 1 Axes>"
      ]
     },
     "metadata": {
      "needs_background": "light"
     },
     "output_type": "display_data"
    }
   ],
   "source": [
    "plt.plot(df.groupby(['Pitch'])['Success_probability'].mean().index,df.groupby(['Pitch'])['Success_probability'].mean())"
   ]
  },
  {
   "cell_type": "code",
   "execution_count": 111,
   "metadata": {},
   "outputs": [
    {
     "data": {
      "text/plain": [
       "[<matplotlib.lines.Line2D at 0x2e3838728e0>]"
      ]
     },
     "execution_count": 111,
     "metadata": {},
     "output_type": "execute_result"
    },
    {
     "data": {
      "image/png": "[encoded data removed]",
      "text/plain": [
       "<Figure size 432x288 with 1 Axes>"
      ]
     },
     "metadata": {
      "needs_background": "light"
     },
     "output_type": "display_data"
    }
   ],
   "source": [
    "plt.plot(df.groupby(['Lead_revenue'])['Success_probability'].count().index,df.groupby(['Lead_revenue'])['Success_probability'].count())"
   ]
  },
  {
   "cell_type": "code",
   "execution_count": 101,
   "metadata": {},
   "outputs": [
    {
     "data": {
      "text/plain": [
       "[<matplotlib.lines.Line2D at 0x2e3ff640f70>]"
      ]
     },
     "execution_count": 101,
     "metadata": {},
     "output_type": "execute_result"
    },
    {
     "data": {
      "image/png": "[encoded data removed]",
      "text/plain": [
       "<Figure size 432x288 with 1 Axes>"
      ]
     },
     "metadata": {
      "needs_background": "light"
     },
     "output_type": "display_data"
    }
   ],
   "source": [
    "plt.plot(df.groupby(['Lead_revenue'])['Success_probability'].mean().index,df.groupby(['Lead_revenue'])['Success_probability'].mean())"
   ]
  },
  {
   "cell_type": "code",
   "execution_count": 112,
   "metadata": {},
   "outputs": [
    {
     "data": {
      "text/plain": [
       "[<matplotlib.lines.Line2D at 0x2e38389eac0>]"
      ]
     },
     "execution_count": 112,
     "metadata": {},
     "output_type": "execute_result"
    },
    {
     "data": {
      "image/png": "[encoded data removed]",
      "text/plain": [
       "<Figure size 432x288 with 1 Axes>"
      ]
     },
     "metadata": {
      "needs_background": "light"
     },
     "output_type": "display_data"
    }
   ],
   "source": [
    "plt.plot(df.groupby(['Fund_category'])['Success_probability'].mean().index,df.groupby(['Fund_category'])['Success_probability'].mean())"
   ]
  },
  {
   "cell_type": "code",
   "execution_count": 115,
   "metadata": {},
   "outputs": [
    {
     "data": {
      "text/plain": [
       "[<matplotlib.lines.Line2D at 0x2e3838dbd30>]"
      ]
     },
     "execution_count": 115,
     "metadata": {},
     "output_type": "execute_result"
    },
    {
     "data": {
      "image/png": "[encoded data removed]",
      "text/plain": [
       "<Figure size 432x288 with 1 Axes>"
      ]
     },
     "metadata": {
      "needs_background": "light"
     },
     "output_type": "display_data"
    }
   ],
   "source": [
    "plt.plot(df.groupby(['Geography'])['Success_probability'].mean().index,df.groupby(['Geography'])['Success_probability'].mean())"
   ]
  },
  {
   "cell_type": "code",
   "execution_count": 116,
   "metadata": {},
   "outputs": [
    {
     "data": {
      "text/plain": [
       "[<matplotlib.lines.Line2D at 0x2e383909ac0>]"
      ]
     },
     "execution_count": 116,
     "metadata": {},
     "output_type": "execute_result"
    },
    {
     "data": {
      "image/png": "[encoded data removed]",
      "text/plain": [
       "<Figure size 432x288 with 1 Axes>"
      ]
     },
     "metadata": {
      "needs_background": "light"
     },
     "output_type": "display_data"
    }
   ],
   "source": [
    "plt.plot(df.groupby(['Designation'])['Success_probability'].mean().index,df.groupby(['Designation'])['Success_probability'].mean())"
   ]
  },
  {
   "cell_type": "code",
   "execution_count": 118,
   "metadata": {},
   "outputs": [
    {
     "data": {
      "text/plain": [
       "[<matplotlib.lines.Line2D at 0x2e38396ee50>]"
      ]
     },
     "execution_count": 118,
     "metadata": {},
     "output_type": "execute_result"
    },
    {
     "data": {
      "image/png": "[encoded data removed]",
      "text/plain": [
       "<Figure size 432x288 with 1 Axes>"
      ]
     },
     "metadata": {
      "needs_background": "light"
     },
     "output_type": "display_data"
    }
   ],
   "source": [
    "plt.plot(df.groupby(['Hiring_candidate_role'])['Success_probability'].mean().index,df.groupby(['Hiring_candidate_role'])['Success_probability'].mean())"
   ]
  },
  {
   "cell_type": "code",
   "execution_count": 117,
   "metadata": {},
   "outputs": [
    {
     "data": {
      "text/plain": [
       "[<matplotlib.lines.Line2D at 0x2e383941250>]"
      ]
     },
     "execution_count": 117,
     "metadata": {},
     "output_type": "execute_result"
    },
    {
     "data": {
      "image/png": "[encoded data removed]",
      "text/plain": [
       "<Figure size 432x288 with 1 Axes>"
      ]
     },
     "metadata": {
      "needs_background": "light"
     },
     "output_type": "display_data"
    }
   ],
   "source": [
    "plt.plot(df.groupby(['Lead_source'])['Success_probability'].mean().index,df.groupby(['Lead_source'])['Success_probability'].mean())"
   ]
  },
  {
   "cell_type": "code",
   "execution_count": 119,
   "metadata": {},
   "outputs": [
    {
     "data": {
      "text/plain": [
       "[<matplotlib.lines.Line2D at 0x2e384c73fd0>]"
      ]
     },
     "execution_count": 119,
     "metadata": {},
     "output_type": "execute_result"
    },
    {
     "data": {
      "image/png": "[encoded data removed]",
      "text/plain": [
       "<Figure size 432x288 with 1 Axes>"
      ]
     },
     "metadata": {
      "needs_background": "light"
     },
     "output_type": "display_data"
    }
   ],
   "source": [
    "plt.plot(df.groupby(['Level_of_meeting'])['Success_probability'].mean().index,df.groupby(['Level_of_meeting'])['Success_probability'].mean())"
   ]
  },
  {
   "cell_type": "code",
   "execution_count": 120,
   "metadata": {},
   "outputs": [
    {
     "data": {
      "text/plain": [
       "[<matplotlib.lines.Line2D at 0x2e384ed1370>]"
      ]
     },
     "execution_count": 120,
     "metadata": {},
     "output_type": "execute_result"
    },
    {
     "data": {
      "image/png": "[encoded data removed]",
      "text/plain": [
       "<Figure size 432x288 with 1 Axes>"
      ]
     },
     "metadata": {
      "needs_background": "light"
     },
     "output_type": "display_data"
    }
   ],
   "source": [
    "plt.plot(df.groupby(['Last_lead_update'])['Success_probability'].mean().index,df.groupby(['Last_lead_update'])['Success_probability'].mean())"
   ]
  },
  {
   "cell_type": "code",
   "execution_count": 121,
   "metadata": {},
   "outputs": [
    {
     "data": {
      "text/plain": [
       "[<matplotlib.lines.Line2D at 0x2e384e99dc0>]"
      ]
     },
     "execution_count": 121,
     "metadata": {},
     "output_type": "execute_result"
    },
    {
     "data": {
      "image/png": "[encoded data removed]",
      "text/plain": [
       "<Figure size 432x288 with 1 Axes>"
      ]
     },
     "metadata": {
      "needs_background": "light"
     },
     "output_type": "display_data"
    }
   ],
   "source": [
    "plt.plot(df.groupby(['Resource'])['Success_probability'].mean().index,df.groupby(['Resource'])['Success_probability'].mean())"
   ]
  },
  {
   "cell_type": "code",
   "execution_count": 122,
   "metadata": {},
   "outputs": [
    {
     "data": {
      "text/plain": [
       "[<matplotlib.lines.Line2D at 0x2e384f3a4f0>]"
      ]
     },
     "execution_count": 122,
     "metadata": {},
     "output_type": "execute_result"
    },
    {
     "data": {
      "image/png": "[encoded data removed]",
      "text/plain": [
       "<Figure size 432x288 with 1 Axes>"
      ]
     },
     "metadata": {
      "needs_background": "light"
     },
     "output_type": "display_data"
    }
   ],
   "source": [
    "plt.plot(df.groupby(['Internal_rating'])['Success_probability'].mean().index,df.groupby(['Internal_rating'])['Success_probability'].mean())"
   ]
  },
  {
   "cell_type": "code",
   "execution_count": 123,
   "metadata": {},
   "outputs": [
    {
     "data": {
      "text/plain": [
       "[<matplotlib.lines.Line2D at 0x2e384f8d8b0>]"
      ]
     },
     "execution_count": 123,
     "metadata": {},
     "output_type": "execute_result"
    },
    {
     "data": {
      "image/png": "[encoded data removed]",
      "text/plain": [
       "<Figure size 432x288 with 1 Axes>"
      ]
     },
     "metadata": {
      "needs_background": "light"
     },
     "output_type": "display_data"
    }
   ],
   "source": [
    "plt.plot(df.groupby(['year'])['Success_probability'].mean().index,df.groupby(['year'])['Success_probability'].mean())"
   ]
  },
  {
   "cell_type": "code",
   "execution_count": 124,
   "metadata": {},
   "outputs": [
    {
     "data": {
      "text/plain": [
       "[<matplotlib.lines.Line2D at 0x2e384fea670>]"
      ]
     },
     "execution_count": 124,
     "metadata": {},
     "output_type": "execute_result"
    },
    {
     "data": {
      "image/png": "[encoded data removed]",
      "text/plain": [
       "<Figure size 432x288 with 1 Axes>"
      ]
     },
     "metadata": {
      "needs_background": "light"
     },
     "output_type": "display_data"
    }
   ],
   "source": [
    "plt.plot(df.groupby(['month'])['Success_probability'].mean().index,df.groupby(['month'])['Success_probability'].mean())"
   ]
  },
  {
   "cell_type": "code",
   "execution_count": 125,
   "metadata": {},
   "outputs": [
    {
     "data": {
      "text/html": [
       "<div>\n",
       "<style scoped>\n",
       "    .dataframe tbody tr th:only-of-type {\n",
       "        vertical-align: middle;\n",
       "    }\n",
       "\n",
       "    .dataframe tbody tr th {\n",
       "        vertical-align: top;\n",
       "    }\n",
       "\n",
       "    .dataframe thead th {\n",
       "        text-align: right;\n",
       "    }\n",
       "</style>\n",
       "<table border=\"1\" class=\"dataframe\">\n",
       "  <thead>\n",
       "    <tr style=\"text-align: right;\">\n",
       "      <th></th>\n",
       "      <th>Deal_value</th>\n",
       "      <th>Weighted_amount</th>\n",
       "      <th>Internal_rating</th>\n",
       "      <th>Success_probability</th>\n",
       "      <th>year</th>\n",
       "      <th>month</th>\n",
       "    </tr>\n",
       "  </thead>\n",
       "  <tbody>\n",
       "    <tr>\n",
       "      <th>Deal_value</th>\n",
       "      <td>1.000000</td>\n",
       "      <td>0.908604</td>\n",
       "      <td>0.003047</td>\n",
       "      <td>0.018973</td>\n",
       "      <td>0.009224</td>\n",
       "      <td>-0.000680</td>\n",
       "    </tr>\n",
       "    <tr>\n",
       "      <th>Weighted_amount</th>\n",
       "      <td>0.908604</td>\n",
       "      <td>1.000000</td>\n",
       "      <td>0.041377</td>\n",
       "      <td>0.033693</td>\n",
       "      <td>0.009294</td>\n",
       "      <td>0.006510</td>\n",
       "    </tr>\n",
       "    <tr>\n",
       "      <th>Internal_rating</th>\n",
       "      <td>0.003047</td>\n",
       "      <td>0.041377</td>\n",
       "      <td>1.000000</td>\n",
       "      <td>0.073845</td>\n",
       "      <td>-0.002117</td>\n",
       "      <td>0.000839</td>\n",
       "    </tr>\n",
       "    <tr>\n",
       "      <th>Success_probability</th>\n",
       "      <td>0.018973</td>\n",
       "      <td>0.033693</td>\n",
       "      <td>0.073845</td>\n",
       "      <td>1.000000</td>\n",
       "      <td>-0.005276</td>\n",
       "      <td>0.002141</td>\n",
       "    </tr>\n",
       "    <tr>\n",
       "      <th>year</th>\n",
       "      <td>0.009224</td>\n",
       "      <td>0.009294</td>\n",
       "      <td>-0.002117</td>\n",
       "      <td>-0.005276</td>\n",
       "      <td>1.000000</td>\n",
       "      <td>-0.199270</td>\n",
       "    </tr>\n",
       "    <tr>\n",
       "      <th>month</th>\n",
       "      <td>-0.000680</td>\n",
       "      <td>0.006510</td>\n",
       "      <td>0.000839</td>\n",
       "      <td>0.002141</td>\n",
       "      <td>-0.199270</td>\n",
       "      <td>1.000000</td>\n",
       "    </tr>\n",
       "  </tbody>\n",
       "</table>\n",
       "</div>"
      ],
      "text/plain": [
       "                     Deal_value  Weighted_amount  Internal_rating  \\\n",
       "Deal_value             1.000000         0.908604         0.003047   \n",
       "Weighted_amount        0.908604         1.000000         0.041377   \n",
       "Internal_rating        0.003047         0.041377         1.000000   \n",
       "Success_probability    0.018973         0.033693         0.073845   \n",
       "year                   0.009224         0.009294        -0.002117   \n",
       "month                 -0.000680         0.006510         0.000839   \n",
       "\n",
       "                     Success_probability      year     month  \n",
       "Deal_value                      0.018973  0.009224 -0.000680  \n",
       "Weighted_amount                 0.033693  0.009294  0.006510  \n",
       "Internal_rating                 0.073845 -0.002117  0.000839  \n",
       "Success_probability             1.000000 -0.005276  0.002141  \n",
       "year                           -0.005276  1.000000 -0.199270  \n",
       "month                           0.002141 -0.199270  1.000000  "
      ]
     },
     "execution_count": 125,
     "metadata": {},
     "output_type": "execute_result"
    }
   ],
   "source": [
    "df.corr()"
   ]
  },
  {
   "cell_type": "markdown",
   "metadata": {},
   "source": [
    "# Label Encoding the Data"
   ]
  },
  {
   "cell_type": "code",
   "execution_count": 140,
   "metadata": {},
   "outputs": [],
   "source": [
    "encodinglist=['Industry','Pitch','Lead_revenue','Fund_category','Geography','Location','Designation','Hiring_candidate_role','Lead_source','Level_of_meeting','Last_lead_update','Internal_POC','Resource','year','month']"
   ]
  },
  {
   "cell_type": "code",
   "execution_count": 142,
   "metadata": {},
   "outputs": [],
   "source": [
    "for col in encodinglist:\n",
    "    keys=df.groupby([col])['Success_probability'].mean().nlargest(7007).index.tolist()\n",
    "    values=list(range(len(keys),0,-1))\n",
    "    dictionary=dict(zip(keys,values))\n",
    "    df[col]=df[col].replace(dictionary)\n",
    "    df_test[col]=df_test[col].replace(dictionary)"
   ]
  },
  {
   "cell_type": "markdown",
   "metadata": {},
   "source": [
    "# Getting the data"
   ]
  },
  {
   "cell_type": "code",
   "execution_count": 146,
   "metadata": {},
   "outputs": [],
   "source": [
    "y_train=np.array(df['Success_probability'].tolist())"
   ]
  },
  {
   "cell_type": "code",
   "execution_count": 148,
   "metadata": {},
   "outputs": [],
   "source": [
    "df.drop(['Success_probability'],axis=1,inplace=True)"
   ]
  },
  {
   "cell_type": "code",
   "execution_count": 153,
   "metadata": {},
   "outputs": [],
   "source": [
    "X_train=df.iloc[:,:].values\n",
    "X_test2=df_test.iloc[:,:].values"
   ]
  },
  {
   "cell_type": "markdown",
   "metadata": {},
   "source": [
    "# Feature Importance"
   ]
  },
  {
   "cell_type": "code",
   "execution_count": 159,
   "metadata": {},
   "outputs": [
    {
     "data": {
      "text/plain": [
       "ExtraTreesRegressor()"
      ]
     },
     "execution_count": 159,
     "metadata": {},
     "output_type": "execute_result"
    }
   ],
   "source": [
    "from sklearn.ensemble import ExtraTreesRegressor\n",
    "model1=ExtraTreesRegressor()\n",
    "model1.fit(X_train,y_train)"
   ]
  },
  {
   "cell_type": "code",
   "execution_count": 161,
   "metadata": {},
   "outputs": [
    {
     "name": "stdout",
     "output_type": "stream",
     "text": [
      "[0.06437301 0.04591718 0.04440244 0.02649146 0.03770583 0.0441779\n",
      " 0.03678252 0.16114036 0.0471465  0.12560898 0.04263597 0.04047188\n",
      " 0.04918839 0.05597529 0.04506665 0.05138119 0.03359695 0.04793751]\n"
     ]
    }
   ],
   "source": [
    "print(model1.feature_importances_)"
   ]
  },
  {
   "cell_type": "code",
   "execution_count": 162,
   "metadata": {},
   "outputs": [],
   "source": [
    "feature_importance_normalized = np.std([model1.feature_importances_ for tree in \n",
    "                                        model1.estimators_],\n",
    "                                        axis = 0)"
   ]
  },
  {
   "cell_type": "code",
   "execution_count": 165,
   "metadata": {},
   "outputs": [
    {
     "data": {
      "image/png": "[encoded data removed]",
      "text/plain": [
       "<Figure size 1440x360 with 1 Axes>"
      ]
     },
     "metadata": {
      "needs_background": "light"
     },
     "output_type": "display_data"
    }
   ],
   "source": [
    "fig=plt.figure(figsize=(20,5))\n",
    "plt.bar(df.columns, feature_importance_normalized)\n",
    "plt.xlabel('Feature Labels')\n",
    "plt.ylabel('Feature Importances')\n",
    "plt.title('Comparison of different Feature Importances')\n",
    "plt.show()"
   ]
  },
  {
   "cell_type": "markdown",
   "metadata": {},
   "source": [
    "# Splitting Test and Train Dataset"
   ]
  },
  {
   "cell_type": "code",
   "execution_count": 167,
   "metadata": {},
   "outputs": [],
   "source": [
    "from sklearn.model_selection import train_test_split\n",
    "X_train, X_test, y_train, y_test = train_test_split(X_train, y_train, test_size=0.3, random_state=0)"
   ]
  },
  {
   "cell_type": "markdown",
   "metadata": {},
   "source": [
    "# Setting up the models"
   ]
  },
  {
   "cell_type": "markdown",
   "metadata": {},
   "source": [
    "# Random Forest"
   ]
  },
  {
   "cell_type": "code",
   "execution_count": 170,
   "metadata": {},
   "outputs": [],
   "source": [
    "from sklearn.ensemble import RandomForestRegressor\n",
    "regressorRF=RandomForestRegressor()"
   ]
  },
  {
   "cell_type": "markdown",
   "metadata": {},
   "source": [
    "Hyper Parameter Tuning"
   ]
  },
  {
   "cell_type": "code",
   "execution_count": 171,
   "metadata": {},
   "outputs": [],
   "source": [
    "from sklearn.model_selection import RandomizedSearchCV\n",
    "#Randomized Search CV\n",
    "\n",
    "# Number of trees in random forest\n",
    "n_estimators = [int(x) for x in np.linspace(start = 100, stop = 1200, num = 12)]\n",
    "# Number of features to consider at every split\n",
    "max_features = ['auto', 'sqrt']\n",
    "# Maximum number of levels in tree\n",
    "max_depth = [int(x) for x in np.linspace(5, 30, num = 6)]\n",
    "# max_depth.append(None)\n",
    "# Minimum number of samples required to split a node\n",
    "min_samples_split = [2, 5, 10, 15, 100]\n",
    "# Minimum number of samples required at each leaf node\n",
    "min_samples_leaf = [1, 2, 5, 10]"
   ]
  },
  {
   "cell_type": "code",
   "execution_count": 172,
   "metadata": {},
   "outputs": [
    {
     "name": "stdout",
     "output_type": "stream",
     "text": [
      "{'n_estimators': [100, 200, 300, 400, 500, 600, 700, 800, 900, 1000, 1100, 1200], 'max_features': ['auto', 'sqrt'], 'max_depth': [5, 10, 15, 20, 25, 30], 'min_samples_split': [2, 5, 10, 15, 100], 'min_samples_leaf': [1, 2, 5, 10]}\n"
     ]
    }
   ],
   "source": [
    "# Create the random grid\n",
    "random_grid = {'n_estimators': n_estimators,\n",
    "               'max_features': max_features,\n",
    "               'max_depth': max_depth,\n",
    "               'min_samples_split': min_samples_split,\n",
    "               'min_samples_leaf': min_samples_leaf}\n",
    "\n",
    "print(random_grid)"
   ]
  },
  {
   "cell_type": "code",
   "execution_count": 173,
   "metadata": {},
   "outputs": [],
   "source": [
    "# Use the random grid to search for best hyperparameters\n",
    "# First create the base model to tune\n",
    "rf = RandomForestRegressor()"
   ]
  },
  {
   "cell_type": "code",
   "execution_count": 174,
   "metadata": {},
   "outputs": [],
   "source": [
    "# Random search of parameters, using 5 fold cross validation, \n",
    "# search across 100 different combinations\n",
    "rf_random = RandomizedSearchCV(estimator = rf, param_distributions = random_grid,scoring='neg_mean_squared_error', n_iter = 10, cv = 5, verbose=2, random_state=42, n_jobs = 1)"
   ]
  },
  {
   "cell_type": "code",
   "execution_count": 175,
   "metadata": {},
   "outputs": [
    {
     "name": "stdout",
     "output_type": "stream",
     "text": [
      "Fitting 5 folds for each of 10 candidates, totalling 50 fits\n",
      "[CV] END max_depth=10, max_features=sqrt, min_samples_leaf=5, min_samples_split=5, n_estimators=900; total time=   4.1s\n",
      "[CV] END max_depth=10, max_features=sqrt, min_samples_leaf=5, min_samples_split=5, n_estimators=900; total time=   4.0s\n",
      "[CV] END max_depth=10, max_features=sqrt, min_samples_leaf=5, min_samples_split=5, n_estimators=900; total time=   3.9s\n",
      "[CV] END max_depth=10, max_features=sqrt, min_samples_leaf=5, min_samples_split=5, n_estimators=900; total time=   3.9s\n",
      "[CV] END max_depth=10, max_features=sqrt, min_samples_leaf=5, min_samples_split=5, n_estimators=900; total time=   3.8s\n",
      "[CV] END max_depth=15, max_features=sqrt, min_samples_leaf=2, min_samples_split=10, n_estimators=1100; total time=   5.7s\n",
      "[CV] END max_depth=15, max_features=sqrt, min_samples_leaf=2, min_samples_split=10, n_estimators=1100; total time=   5.7s\n",
      "[CV] END max_depth=15, max_features=sqrt, min_samples_leaf=2, min_samples_split=10, n_estimators=1100; total time=   5.7s\n",
      "[CV] END max_depth=15, max_features=sqrt, min_samples_leaf=2, min_samples_split=10, n_estimators=1100; total time=   5.7s\n",
      "[CV] END max_depth=15, max_features=sqrt, min_samples_leaf=2, min_samples_split=10, n_estimators=1100; total time=   5.7s\n",
      "[CV] END max_depth=15, max_features=auto, min_samples_leaf=5, min_samples_split=100, n_estimators=300; total time=   3.3s\n",
      "[CV] END max_depth=15, max_features=auto, min_samples_leaf=5, min_samples_split=100, n_estimators=300; total time=   3.4s\n",
      "[CV] END max_depth=15, max_features=auto, min_samples_leaf=5, min_samples_split=100, n_estimators=300; total time=   3.3s\n",
      "[CV] END max_depth=15, max_features=auto, min_samples_leaf=5, min_samples_split=100, n_estimators=300; total time=   3.3s\n",
      "[CV] END max_depth=15, max_features=auto, min_samples_leaf=5, min_samples_split=100, n_estimators=300; total time=   3.3s\n",
      "[CV] END max_depth=15, max_features=auto, min_samples_leaf=5, min_samples_split=5, n_estimators=400; total time=   6.6s\n",
      "[CV] END max_depth=15, max_features=auto, min_samples_leaf=5, min_samples_split=5, n_estimators=400; total time=   6.6s\n",
      "[CV] END max_depth=15, max_features=auto, min_samples_leaf=5, min_samples_split=5, n_estimators=400; total time=   6.7s\n",
      "[CV] END max_depth=15, max_features=auto, min_samples_leaf=5, min_samples_split=5, n_estimators=400; total time=   6.6s\n",
      "[CV] END max_depth=15, max_features=auto, min_samples_leaf=5, min_samples_split=5, n_estimators=400; total time=   6.6s\n",
      "[CV] END max_depth=20, max_features=auto, min_samples_leaf=10, min_samples_split=5, n_estimators=700; total time=   9.9s\n",
      "[CV] END max_depth=20, max_features=auto, min_samples_leaf=10, min_samples_split=5, n_estimators=700; total time=   9.9s\n",
      "[CV] END max_depth=20, max_features=auto, min_samples_leaf=10, min_samples_split=5, n_estimators=700; total time=   9.9s\n",
      "[CV] END max_depth=20, max_features=auto, min_samples_leaf=10, min_samples_split=5, n_estimators=700; total time=   9.8s\n",
      "[CV] END max_depth=20, max_features=auto, min_samples_leaf=10, min_samples_split=5, n_estimators=700; total time=   9.8s\n",
      "[CV] END max_depth=25, max_features=sqrt, min_samples_leaf=1, min_samples_split=2, n_estimators=1000; total time=   7.7s\n",
      "[CV] END max_depth=25, max_features=sqrt, min_samples_leaf=1, min_samples_split=2, n_estimators=1000; total time=   7.6s\n",
      "[CV] END max_depth=25, max_features=sqrt, min_samples_leaf=1, min_samples_split=2, n_estimators=1000; total time=   7.6s\n",
      "[CV] END max_depth=25, max_features=sqrt, min_samples_leaf=1, min_samples_split=2, n_estimators=1000; total time=   7.6s\n",
      "[CV] END max_depth=25, max_features=sqrt, min_samples_leaf=1, min_samples_split=2, n_estimators=1000; total time=   7.6s\n",
      "[CV] END max_depth=5, max_features=sqrt, min_samples_leaf=10, min_samples_split=15, n_estimators=1100; total time=   3.0s\n",
      "[CV] END max_depth=5, max_features=sqrt, min_samples_leaf=10, min_samples_split=15, n_estimators=1100; total time=   3.0s\n",
      "[CV] END max_depth=5, max_features=sqrt, min_samples_leaf=10, min_samples_split=15, n_estimators=1100; total time=   2.9s\n",
      "[CV] END max_depth=5, max_features=sqrt, min_samples_leaf=10, min_samples_split=15, n_estimators=1100; total time=   2.9s\n",
      "[CV] END max_depth=5, max_features=sqrt, min_samples_leaf=10, min_samples_split=15, n_estimators=1100; total time=   2.9s\n",
      "[CV] END max_depth=15, max_features=sqrt, min_samples_leaf=1, min_samples_split=15, n_estimators=300; total time=   1.4s\n",
      "[CV] END max_depth=15, max_features=sqrt, min_samples_leaf=1, min_samples_split=15, n_estimators=300; total time=   1.4s\n",
      "[CV] END max_depth=15, max_features=sqrt, min_samples_leaf=1, min_samples_split=15, n_estimators=300; total time=   1.4s\n",
      "[CV] END max_depth=15, max_features=sqrt, min_samples_leaf=1, min_samples_split=15, n_estimators=300; total time=   1.4s\n",
      "[CV] END max_depth=15, max_features=sqrt, min_samples_leaf=1, min_samples_split=15, n_estimators=300; total time=   1.4s\n",
      "[CV] END max_depth=5, max_features=sqrt, min_samples_leaf=2, min_samples_split=10, n_estimators=700; total time=   1.8s\n",
      "[CV] END max_depth=5, max_features=sqrt, min_samples_leaf=2, min_samples_split=10, n_estimators=700; total time=   1.8s\n",
      "[CV] END max_depth=5, max_features=sqrt, min_samples_leaf=2, min_samples_split=10, n_estimators=700; total time=   1.8s\n",
      "[CV] END max_depth=5, max_features=sqrt, min_samples_leaf=2, min_samples_split=10, n_estimators=700; total time=   1.8s\n",
      "[CV] END max_depth=5, max_features=sqrt, min_samples_leaf=2, min_samples_split=10, n_estimators=700; total time=   1.8s\n",
      "[CV] END max_depth=20, max_features=auto, min_samples_leaf=1, min_samples_split=15, n_estimators=700; total time=  13.0s\n",
      "[CV] END max_depth=20, max_features=auto, min_samples_leaf=1, min_samples_split=15, n_estimators=700; total time=  13.1s\n",
      "[CV] END max_depth=20, max_features=auto, min_samples_leaf=1, min_samples_split=15, n_estimators=700; total time=  13.1s\n",
      "[CV] END max_depth=20, max_features=auto, min_samples_leaf=1, min_samples_split=15, n_estimators=700; total time=  12.8s\n",
      "[CV] END max_depth=20, max_features=auto, min_samples_leaf=1, min_samples_split=15, n_estimators=700; total time=  12.9s\n"
     ]
    },
    {
     "data": {
      "text/plain": [
       "RandomizedSearchCV(cv=5, estimator=RandomForestRegressor(), n_jobs=1,\n",
       "                   param_distributions={'max_depth': [5, 10, 15, 20, 25, 30],\n",
       "                                        'max_features': ['auto', 'sqrt'],\n",
       "                                        'min_samples_leaf': [1, 2, 5, 10],\n",
       "                                        'min_samples_split': [2, 5, 10, 15,\n",
       "                                                              100],\n",
       "                                        'n_estimators': [100, 200, 300, 400,\n",
       "                                                         500, 600, 700, 800,\n",
       "                                                         900, 1000, 1100,\n",
       "                                                         1200]},\n",
       "                   random_state=42, scoring='neg_mean_squared_error',\n",
       "                   verbose=2)"
      ]
     },
     "execution_count": 175,
     "metadata": {},
     "output_type": "execute_result"
    }
   ],
   "source": [
    "rf_random.fit(X_train,y_train)"
   ]
  },
  {
   "cell_type": "code",
   "execution_count": 176,
   "metadata": {},
   "outputs": [
    {
     "data": {
      "text/plain": [
       "{'n_estimators': 1100,\n",
       " 'min_samples_split': 10,\n",
       " 'min_samples_leaf': 2,\n",
       " 'max_features': 'sqrt',\n",
       " 'max_depth': 15}"
      ]
     },
     "execution_count": 176,
     "metadata": {},
     "output_type": "execute_result"
    }
   ],
   "source": [
    "rf_random.best_params_"
   ]
  },
  {
   "cell_type": "code",
   "execution_count": 177,
   "metadata": {},
   "outputs": [
    {
     "data": {
      "text/plain": [
       "-259.44344484004137"
      ]
     },
     "execution_count": 177,
     "metadata": {},
     "output_type": "execute_result"
    }
   ],
   "source": [
    "rf_random.best_score_"
   ]
  },
  {
   "cell_type": "code",
   "execution_count": 178,
   "metadata": {},
   "outputs": [],
   "source": [
    "predictions=rf_random.predict(X_test)"
   ]
  },
  {
   "cell_type": "code",
   "execution_count": 179,
   "metadata": {},
   "outputs": [
    {
     "data": {
      "text/plain": [
       "<matplotlib.collections.PathCollection at 0x2e38db454f0>"
      ]
     },
     "execution_count": 179,
     "metadata": {},
     "output_type": "execute_result"
    },
    {
     "data": {
      "image/png": "[encoded data removed]",
      "text/plain": [
       "<Figure size 432x288 with 1 Axes>"
      ]
     },
     "metadata": {
      "needs_background": "light"
     },
     "output_type": "display_data"
    }
   ],
   "source": [
    "plt.scatter(y_test,predictions)"
   ]
  },
  {
   "cell_type": "code",
   "execution_count": 182,
   "metadata": {},
   "outputs": [
    {
     "data": {
      "text/plain": [
       "231"
      ]
     },
     "execution_count": 182,
     "metadata": {},
     "output_type": "execute_result"
    }
   ],
   "source": [
    "len(set(y_test))"
   ]
  },
  {
   "cell_type": "code",
   "execution_count": 184,
   "metadata": {},
   "outputs": [
    {
     "name": "stderr",
     "output_type": "stream",
     "text": [
      "C:\\Users\\venka\\anaconda3\\lib\\site-packages\\seaborn\\distributions.py:2551: FutureWarning: `distplot` is a deprecated function and will be removed in a future version. Please adapt your code to use either `displot` (a figure-level function with similar flexibility) or `histplot` (an axes-level function for histograms).\n",
      "  warnings.warn(msg, FutureWarning)\n"
     ]
    },
    {
     "data": {
      "text/plain": [
       "<AxesSubplot:ylabel='Density'>"
      ]
     },
     "execution_count": 184,
     "metadata": {},
     "output_type": "execute_result"
    },
    {
     "data": {
      "image/png": "[encoded data removed]",
      "text/plain": [
       "<Figure size 432x288 with 1 Axes>"
      ]
     },
     "metadata": {
      "needs_background": "light"
     },
     "output_type": "display_data"
    }
   ],
   "source": [
    "sn.distplot(y_test-predictions)"
   ]
  },
  {
   "cell_type": "markdown",
   "metadata": {},
   "source": [
    "# Light GBM"
   ]
  },
  {
   "cell_type": "code",
   "execution_count": null,
   "metadata": {},
   "outputs": [],
   "source": []
  },
  {
   "cell_type": "markdown",
   "metadata": {},
   "source": [
    "# XG Boost"
   ]
  },
  {
   "cell_type": "code",
   "execution_count": null,
   "metadata": {},
   "outputs": [],
   "source": []
  },
  {
   "cell_type": "markdown",
   "metadata": {},
   "source": [
    "# Deep Learning Model"
   ]
  },
  {
   "cell_type": "code",
   "execution_count": null,
   "metadata": {},
   "outputs": [],
   "source": []
  },
  {
   "cell_type": "code",
   "execution_count": null,
   "metadata": {},
   "outputs": [],
   "source": []
  },
  {
   "cell_type": "code",
   "execution_count": 186,
   "metadata": {},
   "outputs": [],
   "source": [
    "from keras.models import Sequential\n",
    "from keras.layers import Dense, Dropout\n",
    "from keras.wrappers.scikit_learn import KerasClassifier\n",
    "from sklearn.model_selection import cross_val_score\n",
    "from sklearn.model_selection import KFold\n",
    "from sklearn.preprocessing import MinMaxScaler"
   ]
  },
  {
   "cell_type": "code",
   "execution_count": null,
   "metadata": {},
   "outputs": [],
   "source": [
    "model=Sequential()\n",
    "model.add(Dense(128,activation='Relu'))\n",
    "model.add(Dropout(0.2))\n",
    "model.add(Dense(128,activation='Relu'))\n",
    "model.add(Dropout(0.2))\n",
    "model.add(Dense(64,activation='Relu'))\n",
    "model.add(Dropout(0.2))\n",
    "model.add(Dense(231, activation = 'softmax'))"
   ]
  },
  {
   "cell_type": "code",
   "execution_count": null,
   "metadata": {},
   "outputs": [],
   "source": [
    "model.compile(optimizer='adam', loss='categorical_crossentropy',metrics=['accuracy'])"
   ]
  },
  {
   "cell_type": "code",
   "execution_count": null,
   "metadata": {},
   "outputs": [],
   "source": [
    "estimator = KerasClassifier(build_fn = model, epochs = 100, batch_size = 10, verbose = 0)"
   ]
  },
  {
   "cell_type": "code",
   "execution_count": null,
   "metadata": {},
   "outputs": [],
   "source": [
    "kfold = KFold(n_splits = 5, shuffle = True, random_state = seed)"
   ]
  },
  {
   "cell_type": "code",
   "execution_count": null,
   "metadata": {},
   "outputs": [],
   "source": [
    "results = cross_val_score(estimator, X, Y, cv = kfold)\n",
    "# Result\n",
    "print(\"Result: %.2f%% (%.2f%%)\" % (results.mean()*100, results.std()*100))"
   ]
  },
  {
   "cell_type": "markdown",
   "metadata": {},
   "source": [
    "# Hyper Parameter Tuning"
   ]
  },
  {
   "cell_type": "code",
   "execution_count": null,
   "metadata": {},
   "outputs": [],
   "source": []
  },
  {
   "cell_type": "code",
   "execution_count": null,
   "metadata": {},
   "outputs": [],
   "source": []
  },
  {
   "cell_type": "code",
   "execution_count": null,
   "metadata": {},
   "outputs": [],
   "source": []
  }
 ],
 "metadata": {
  "kernelspec": {
   "display_name": "Python 3",
   "language": "python",
   "name": "python3"
  },
  "language_info": {
   "codemirror_mode": {
    "name": "ipython",
    "version": 3
   },
   "file_extension": ".py",
   "mimetype": "text/x-python",
   "name": "python",
   "nbconvert_exporter": "python",
   "pygments_lexer": "ipython3",
   "version": "3.8.5"
  }
 },
 "nbformat": 4,
 "nbformat_minor": 4
}
