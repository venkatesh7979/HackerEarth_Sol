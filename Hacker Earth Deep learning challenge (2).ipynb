{
 "cells": [
  {
   "cell_type": "markdown",
   "metadata": {},
   "source": [
    "# Importing the Libraries"
   ]
  },
  {
   "cell_type": "code",
   "execution_count": 21,
   "metadata": {},
   "outputs": [
    {
     "name": "stdout",
     "output_type": "stream",
     "text": [
      "C:\\Users\\venka\\OneDrive\\Desktop\n"
     ]
    }
   ],
   "source": [
    "cd C:\\Users\\venka\\OneDrive\\Desktop"
   ]
  },
  {
   "cell_type": "code",
   "execution_count": 38,
   "metadata": {},
   "outputs": [
    {
     "name": "stdout",
     "output_type": "stream",
     "text": [
      "Requirement already satisfied: numpy in c:\\users\\venka\\anaconda3\\lib\\site-packages (1.19.2)\n"
     ]
    }
   ],
   "source": [
    "!pip install numpy"
   ]
  },
  {
   "cell_type": "code",
   "execution_count": 2,
   "metadata": {},
   "outputs": [],
   "source": [
    "import numpy as np\n",
    "import pandas as pd\n",
    "import matplotlib.pyplot as plt"
   ]
  },
  {
   "cell_type": "code",
   "execution_count": 3,
   "metadata": {},
   "outputs": [
    {
     "data": {
      "text/plain": [
       "Miscellaneous     2801\n",
       "Christmas_Tree    1539\n",
       "Jacket             640\n",
       "Candle             593\n",
       "Airplane           535\n",
       "Snowman            361\n",
       "Name: Class, dtype: int64"
      ]
     },
     "execution_count": 3,
     "metadata": {},
     "output_type": "execute_result"
    }
   ],
   "source": [
    "train_csv=pd.read_csv(\"traind.csv\")\n",
    "train_csv['Class'].value_counts()"
   ]
  },
  {
   "cell_type": "code",
   "execution_count": 4,
   "metadata": {},
   "outputs": [],
   "source": [
    "X=train_csv['Image']\n",
    "y=train_csv['Class']"
   ]
  },
  {
   "cell_type": "code",
   "execution_count": 8,
   "metadata": {},
   "outputs": [],
   "source": [
    "from tensorflow.keras.preprocessing.image import ImageDataGenerator\n",
    "import tensorflow as tf"
   ]
  },
  {
   "cell_type": "code",
   "execution_count": 32,
   "metadata": {},
   "outputs": [
    {
     "name": "stdout",
     "output_type": "stream",
     "text": [
      "Found 6469 validated image filenames belonging to 6 classes.\n"
     ]
    }
   ],
   "source": [
    "train_df=pd.read_csv('hackerearth\\\\dataset\\\\traind.csv')\n",
    "from keras.preprocessing.image import ImageDataGenerator\n",
    "train_datagen = ImageDataGenerator(rescale=1./255)\n",
    "train_generator=train_datagen.flow_from_dataframe(dataframe=train_df,\n",
    "                                            directory=\"hackerearth/dataset/train/\",\n",
    "                                            x_col=\"Image\",\n",
    "                                            y_col=\"Class\",\n",
    "                                            subset=\"training\",\n",
    "                                            batch_size=128,\n",
    "                                            shuffle=True,\n",
    "                                            class_mode=\"categorical\",\n",
    "                                            target_size=(50,50))"
   ]
  },
  {
   "cell_type": "code",
   "execution_count": 26,
   "metadata": {},
   "outputs": [
    {
     "name": "stdout",
     "output_type": "stream",
     "text": [
      "Found 3489 images belonging to 1 classes.\n"
     ]
    }
   ],
   "source": [
    "test_datagen = ImageDataGenerator(rescale=1./255)\n",
    "test_generator=train_datagen.flow_from_directory(directory=\"hackerearth\\dataset\",                                                                                \n",
    "                                            classes=[\"test\"],                                        \n",
    "                                            target_size=(50,50))"
   ]
  },
  {
   "cell_type": "code",
   "execution_count": 10,
   "metadata": {},
   "outputs": [],
   "source": [
    "model=tf.keras.models.Sequential([\n",
    "        tf.keras.layers.Conv2D(128,(3,3),activation='relu',input_shape=(50,50,3)),\n",
    "        tf.keras.layers.MaxPooling2D(2,2),\n",
    "        tf.keras.layers.Conv2D(128,(3,3),activation='relu'),\n",
    "        tf.keras.layers.MaxPooling2D(2,2),\n",
    "        tf.keras.layers.Conv2D(128,(3,3),activation='relu'),\n",
    "        tf.keras.layers.MaxPooling2D(2,2),\n",
    "        tf.keras.layers.Flatten(),\n",
    "        tf.keras.layers.Dense(256,activation=tf.nn.relu),\n",
    "        tf.keras.layers.Dropout(0.5),\n",
    "        tf.keras.layers.BatchNormalization(),\n",
    "        tf.keras.layers.Dense(256,activation=tf.nn.relu),\n",
    "        tf.keras.layers.Dropout(0.5),\n",
    "        tf.keras.layers.Dense(6,activation=tf.nn.softmax)\n",
    "        ])"
   ]
  },
  {
   "cell_type": "code",
   "execution_count": 11,
   "metadata": {},
   "outputs": [],
   "source": [
    "model.compile(loss='categorical_crossentropy',optimizer=tf.optimizers.Adam(),metrics=['accuracy'])"
   ]
  },
  {
   "cell_type": "code",
   "execution_count": 12,
   "metadata": {},
   "outputs": [
    {
     "name": "stdout",
     "output_type": "stream",
     "text": [
      "Epoch 1/20\n",
      "51/51 [==============================] - 231s 4s/step - loss: 1.7415 - accuracy: 0.3338\n",
      "Epoch 2/20\n",
      "51/51 [==============================] - 46s 899ms/step - loss: 1.4336 - accuracy: 0.4508\n",
      "Epoch 3/20\n",
      "51/51 [==============================] - 45s 873ms/step - loss: 1.3369 - accuracy: 0.4929\n",
      "Epoch 4/20\n",
      "51/51 [==============================] - 44s 857ms/step - loss: 1.2611 - accuracy: 0.5363\n",
      "Epoch 5/20\n",
      "51/51 [==============================] - 44s 856ms/step - loss: 1.1360 - accuracy: 0.5786\n",
      "Epoch 6/20\n",
      "51/51 [==============================] - 48s 949ms/step - loss: 1.0819 - accuracy: 0.5882\n",
      "Epoch 7/20\n",
      "51/51 [==============================] - 51s 991ms/step - loss: 1.0075 - accuracy: 0.6316\n",
      "Epoch 8/20\n",
      "51/51 [==============================] - 47s 920ms/step - loss: 0.9360 - accuracy: 0.6544\n",
      "Epoch 9/20\n",
      "51/51 [==============================] - 48s 938ms/step - loss: 0.9112 - accuracy: 0.6651\n",
      "Epoch 10/20\n",
      "51/51 [==============================] - 45s 877ms/step - loss: 0.8808 - accuracy: 0.6779\n",
      "Epoch 11/20\n",
      "51/51 [==============================] - 46s 901ms/step - loss: 0.8568 - accuracy: 0.6810\n",
      "Epoch 12/20\n",
      "51/51 [==============================] - 47s 912ms/step - loss: 0.8046 - accuracy: 0.7024\n",
      "Epoch 13/20\n",
      "51/51 [==============================] - 47s 916ms/step - loss: 0.7598 - accuracy: 0.7163\n",
      "Epoch 14/20\n",
      "51/51 [==============================] - 45s 884ms/step - loss: 0.7708 - accuracy: 0.7127\n",
      "Epoch 15/20\n",
      "51/51 [==============================] - 45s 887ms/step - loss: 0.6575 - accuracy: 0.7596\n",
      "Epoch 16/20\n",
      "51/51 [==============================] - 49s 950ms/step - loss: 0.6386 - accuracy: 0.7639\n",
      "Epoch 17/20\n",
      "51/51 [==============================] - 49s 953ms/step - loss: 0.6032 - accuracy: 0.7766\n",
      "Epoch 18/20\n",
      "51/51 [==============================] - 46s 904ms/step - loss: 0.5675 - accuracy: 0.7968\n",
      "Epoch 19/20\n",
      "51/51 [==============================] - 47s 914ms/step - loss: 0.5702 - accuracy: 0.7920\n",
      "Epoch 20/20\n",
      "51/51 [==============================] - 46s 902ms/step - loss: 0.4881 - accuracy: 0.8161\n"
     ]
    },
    {
     "data": {
      "text/plain": [
       "<tensorflow.python.keras.callbacks.History at 0x236c7728e20>"
      ]
     },
     "execution_count": 12,
     "metadata": {},
     "output_type": "execute_result"
    }
   ],
   "source": [
    "model.fit(train_generator,epochs=20,verbose=1)"
   ]
  },
  {
   "cell_type": "code",
   "execution_count": 33,
   "metadata": {},
   "outputs": [
    {
     "name": "stdout",
     "output_type": "stream",
     "text": [
      "  1/110 [..............................] - ETA: 9s"
     ]
    },
    {
     "name": "stderr",
     "output_type": "stream",
     "text": [
      "C:\\Users\\venka\\anaconda3\\lib\\site-packages\\tensorflow\\python\\keras\\engine\\training.py:1905: UserWarning: `Model.predict_generator` is deprecated and will be removed in a future version. Please use `Model.predict`, which supports generators.\n",
      "  warnings.warn('`Model.predict_generator` is deprecated and '\n"
     ]
    },
    {
     "name": "stdout",
     "output_type": "stream",
     "text": [
      "110/110 [==============================] - 6s 54ms/step\n"
     ]
    }
   ],
   "source": [
    "pred=model.predict_generator(test_generator,verbose=1)\n",
    "predicted_class_indices=np.argmax(pred,axis=1)\n",
    "\n",
    "labels = (train_generator.class_indices)\n",
    "\n",
    "labels = dict((v,k) for k,v in labels.items())\n",
    "predictions = [labels[k] for k in predicted_class_indices]\n",
    "filenames=test_generator.filenames\n"
   ]
  },
  {
   "cell_type": "code",
   "execution_count": 34,
   "metadata": {},
   "outputs": [
    {
     "data": {
      "text/plain": [
       "{0: 'Airplane',\n",
       " 1: 'Candle',\n",
       " 2: 'Christmas_Tree',\n",
       " 3: 'Jacket',\n",
       " 4: 'Miscellaneous',\n",
       " 5: 'Snowman'}"
      ]
     },
     "execution_count": 34,
     "metadata": {},
     "output_type": "execute_result"
    }
   ],
   "source": [
    "labels"
   ]
  },
  {
   "cell_type": "code",
   "execution_count": 35,
   "metadata": {},
   "outputs": [],
   "source": [
    "poo=[]\n",
    "for file in filenames:\n",
    "    o,yoo=file.split('\\\\')\n",
    "    poo.append(yoo)"
   ]
  },
  {
   "cell_type": "code",
   "execution_count": 36,
   "metadata": {},
   "outputs": [],
   "source": [
    "results=pd.DataFrame({\"Image\":poo,\n",
    "                      \"Class\":predictions})"
   ]
  },
  {
   "cell_type": "code",
   "execution_count": 37,
   "metadata": {},
   "outputs": [],
   "source": [
    "results.to_csv('submission_deep2.csv',index=False)"
   ]
  },
  {
   "cell_type": "code",
   "execution_count": null,
   "metadata": {},
   "outputs": [],
   "source": []
  }
 ],
 "metadata": {
  "kernelspec": {
   "display_name": "Python 3",
   "language": "python",
   "name": "python3"
  },
  "language_info": {
   "codemirror_mode": {
    "name": "ipython",
    "version": 3
   },
   "file_extension": ".py",
   "mimetype": "text/x-python",
   "name": "python",
   "nbconvert_exporter": "python",
   "pygments_lexer": "ipython3",
   "version": "3.8.5"
  }
 },
 "nbformat": 4,
 "nbformat_minor": 4
}
